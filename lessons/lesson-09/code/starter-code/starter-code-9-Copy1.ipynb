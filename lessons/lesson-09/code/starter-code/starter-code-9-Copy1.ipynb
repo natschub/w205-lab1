{
 "cells": [
  {
   "cell_type": "markdown",
   "metadata": {},
   "source": [
    "### Guided Practice: Logit Function and Odds"
   ]
  },
  {
   "cell_type": "code",
   "execution_count": 1,
   "metadata": {
    "collapsed": false
   },
   "outputs": [
    {
     "data": {
      "text/plain": [
       "2.718281828459045"
      ]
     },
     "execution_count": 1,
     "metadata": {},
     "output_type": "execute_result"
    }
   ],
   "source": [
    "import math\n",
    "math.exp(1)"
   ]
  },
  {
   "cell_type": "markdown",
   "metadata": {},
   "source": [
    "math.exp(1)"
   ]
  },
  {
   "cell_type": "code",
   "execution_count": 8,
   "metadata": {
    "collapsed": false
   },
   "outputs": [
    {
     "name": "stdout",
     "output_type": "stream",
     "text": [
      "[0.8333333333333334, 0.9523809523809523, 0.5238095238095238, 0.6428571428571428, 0.6153846153846154]\n"
     ]
    }
   ],
   "source": [
    "import math\n",
    "def logit_func(odds):\n",
    "    return map(lambda x: math.log(x),odds)\n",
    "\n",
    "def sigmoid_func(logit):\n",
    "    return map(lambda x: 1/(1 + math.exp(-x)),logit)\n",
    "    \n",
    "\n",
    "odds_set = [\n",
    "    5./1,\n",
    "    20./1,\n",
    "    1.1/1,\n",
    "    1.8/1,\n",
    "    1.6/1\n",
    "]\n",
    "\n",
    "print sigmoid_func(logit_func(odds_set))"
   ]
  },
  {
   "cell_type": "code",
   "execution_count": 3,
   "metadata": {
    "collapsed": true
   },
   "outputs": [],
   "source": [
    "import pandas as pd\n",
    "from sklearn.linear_model import LogisticRegression"
   ]
  },
  {
   "cell_type": "code",
   "execution_count": 4,
   "metadata": {
    "collapsed": false
   },
   "outputs": [],
   "source": [
    "lm = LogisticRegression()\n",
    "\n",
    "df = pd.read_csv('../../assets/dataset/collegeadmissions.csv')"
   ]
  },
  {
   "cell_type": "code",
   "execution_count": 5,
   "metadata": {
    "collapsed": false
   },
   "outputs": [
    {
     "data": {
      "text/html": [
       "<div>\n",
       "<table border=\"1\" class=\"dataframe\">\n",
       "  <thead>\n",
       "    <tr style=\"text-align: right;\">\n",
       "      <th></th>\n",
       "      <th>admit</th>\n",
       "      <th>gre</th>\n",
       "      <th>gpa</th>\n",
       "      <th>rank</th>\n",
       "    </tr>\n",
       "  </thead>\n",
       "  <tbody>\n",
       "    <tr>\n",
       "      <th>0</th>\n",
       "      <td>0</td>\n",
       "      <td>380</td>\n",
       "      <td>3.61</td>\n",
       "      <td>3</td>\n",
       "    </tr>\n",
       "    <tr>\n",
       "      <th>1</th>\n",
       "      <td>1</td>\n",
       "      <td>660</td>\n",
       "      <td>3.67</td>\n",
       "      <td>3</td>\n",
       "    </tr>\n",
       "    <tr>\n",
       "      <th>2</th>\n",
       "      <td>1</td>\n",
       "      <td>800</td>\n",
       "      <td>4.00</td>\n",
       "      <td>1</td>\n",
       "    </tr>\n",
       "    <tr>\n",
       "      <th>3</th>\n",
       "      <td>1</td>\n",
       "      <td>640</td>\n",
       "      <td>3.19</td>\n",
       "      <td>4</td>\n",
       "    </tr>\n",
       "    <tr>\n",
       "      <th>4</th>\n",
       "      <td>0</td>\n",
       "      <td>520</td>\n",
       "      <td>2.93</td>\n",
       "      <td>4</td>\n",
       "    </tr>\n",
       "  </tbody>\n",
       "</table>\n",
       "</div>"
      ],
      "text/plain": [
       "   admit  gre   gpa  rank\n",
       "0      0  380  3.61     3\n",
       "1      1  660  3.67     3\n",
       "2      1  800  4.00     1\n",
       "3      1  640  3.19     4\n",
       "4      0  520  2.93     4"
      ]
     },
     "execution_count": 5,
     "metadata": {},
     "output_type": "execute_result"
    }
   ],
   "source": [
    "df.head()"
   ]
  },
  {
   "cell_type": "code",
   "execution_count": 6,
   "metadata": {
    "collapsed": false
   },
   "outputs": [],
   "source": [
    "df = df.join(pd.get_dummies(df['rank']))"
   ]
  },
  {
   "cell_type": "code",
   "execution_count": 11,
   "metadata": {
    "collapsed": false
   },
   "outputs": [
    {
     "data": {
      "text/html": [
       "<div style=\"max-height:1000px;max-width:1500px;overflow:auto;\">\n",
       "<table border=\"1\" class=\"dataframe\">\n",
       "  <thead>\n",
       "    <tr style=\"text-align: right;\">\n",
       "      <th></th>\n",
       "      <th>admit</th>\n",
       "      <th>gre</th>\n",
       "      <th>gpa</th>\n",
       "      <th>rank</th>\n",
       "      <th>1</th>\n",
       "      <th>2</th>\n",
       "      <th>3</th>\n",
       "      <th>4</th>\n",
       "    </tr>\n",
       "  </thead>\n",
       "  <tbody>\n",
       "    <tr>\n",
       "      <th>0</th>\n",
       "      <td>0</td>\n",
       "      <td>380</td>\n",
       "      <td>3.61</td>\n",
       "      <td>3</td>\n",
       "      <td>0</td>\n",
       "      <td>0</td>\n",
       "      <td>1</td>\n",
       "      <td>0</td>\n",
       "    </tr>\n",
       "    <tr>\n",
       "      <th>1</th>\n",
       "      <td>1</td>\n",
       "      <td>660</td>\n",
       "      <td>3.67</td>\n",
       "      <td>3</td>\n",
       "      <td>0</td>\n",
       "      <td>0</td>\n",
       "      <td>1</td>\n",
       "      <td>0</td>\n",
       "    </tr>\n",
       "    <tr>\n",
       "      <th>2</th>\n",
       "      <td>1</td>\n",
       "      <td>800</td>\n",
       "      <td>4.00</td>\n",
       "      <td>1</td>\n",
       "      <td>1</td>\n",
       "      <td>0</td>\n",
       "      <td>0</td>\n",
       "      <td>0</td>\n",
       "    </tr>\n",
       "    <tr>\n",
       "      <th>3</th>\n",
       "      <td>1</td>\n",
       "      <td>640</td>\n",
       "      <td>3.19</td>\n",
       "      <td>4</td>\n",
       "      <td>0</td>\n",
       "      <td>0</td>\n",
       "      <td>0</td>\n",
       "      <td>1</td>\n",
       "    </tr>\n",
       "    <tr>\n",
       "      <th>4</th>\n",
       "      <td>0</td>\n",
       "      <td>520</td>\n",
       "      <td>2.93</td>\n",
       "      <td>4</td>\n",
       "      <td>0</td>\n",
       "      <td>0</td>\n",
       "      <td>0</td>\n",
       "      <td>1</td>\n",
       "    </tr>\n",
       "  </tbody>\n",
       "</table>\n",
       "</div>"
      ],
      "text/plain": [
       "   admit  gre   gpa  rank  1  2  3  4\n",
       "0      0  380  3.61     3  0  0  1  0\n",
       "1      1  660  3.67     3  0  0  1  0\n",
       "2      1  800  4.00     1  1  0  0  0\n",
       "3      1  640  3.19     4  0  0  0  1\n",
       "4      0  520  2.93     4  0  0  0  1"
      ]
     },
     "execution_count": 11,
     "metadata": {},
     "output_type": "execute_result"
    }
   ],
   "source": [
    "df.head()"
   ]
  },
  {
   "cell_type": "code",
   "execution_count": 7,
   "metadata": {
    "collapsed": false
   },
   "outputs": [
    {
     "data": {
      "text/plain": [
       "LogisticRegression(C=1.0, class_weight=None, dual=False, fit_intercept=True,\n",
       "          intercept_scaling=1, max_iter=100, multi_class='ovr', n_jobs=1,\n",
       "          penalty='l2', random_state=None, solver='liblinear', tol=0.0001,\n",
       "          verbose=0, warm_start=False)"
      ]
     },
     "execution_count": 7,
     "metadata": {},
     "output_type": "execute_result"
    }
   ],
   "source": [
    "lm.fit(df[['gre', 'gpa', 1, 2, 3,]], df['admit'])"
   ]
  },
  {
   "cell_type": "markdown",
   "metadata": {},
   "source": [
    "### Building a model with regularization using KFold and GridSearchCV"
   ]
  },
  {
   "cell_type": "code",
   "execution_count": 11,
   "metadata": {
    "collapsed": true
   },
   "outputs": [],
   "source": [
    "from sklearn.cross_validation import KFold\n",
    "from sklearn.grid_search import GridSearchCV\n",
    "import numpy as np"
   ]
  },
  {
   "cell_type": "code",
   "execution_count": 12,
   "metadata": {
    "collapsed": false
   },
   "outputs": [
    {
     "data": {
      "text/plain": [
       "GridSearchCV(cv=sklearn.cross_validation.KFold(n=400, n_folds=5, shuffle=True, random_state=None),\n",
       "       error_score='raise',\n",
       "       estimator=LogisticRegression(C=1.0, class_weight=None, dual=False, fit_intercept=True,\n",
       "          intercept_scaling=1, max_iter=100, multi_class='ovr', n_jobs=1,\n",
       "          penalty='l2', random_state=None, solver='liblinear', tol=0.0001,\n",
       "          verbose=0, warm_start=False),\n",
       "       fit_params={}, iid=True, n_jobs=1,\n",
       "       param_grid={'C': array([  1.00000e-10,   1.00000e-09,   1.00000e-08,   1.00000e-07,\n",
       "         1.00000e-06,   1.00000e-05,   1.00000e-04,   1.00000e-03,\n",
       "         1.00000e-02,   1.00000e-01,   1.00000e+00,   1.00000e+01,\n",
       "         1.00000e+02,   1.00000e+03,   1.00000e+04,   1.00000e+05,\n",
       "         1.00000e+06,   1.00000e+07,   1.00000e+08,   1.00000e+09,\n",
       "         1.00000e+10])},\n",
       "       pre_dispatch='2*n_jobs', refit=True, scoring=None, verbose=0)"
      ]
     },
     "execution_count": 12,
     "metadata": {},
     "output_type": "execute_result"
    }
   ],
   "source": [
    "#Prepping the Cross Validation object\n",
    "logistic_cv = KFold(n=len(df),n_folds = 5,shuffle = True)\n",
    "\n",
    "#The main parameter to tune in a Logistic Regression is the C value where C = 1/alpha (alpha = regularization strength)\n",
    "logistic_params = {'C': np.logspace(-10,10,21)}\n",
    "logistic_estimator = LogisticRegression()\n",
    "\n",
    "#Define the Grid Search Object\n",
    "\n",
    "gs = GridSearchCV(estimator = logistic_estimator,param_grid = logistic_params,cv = logistic_cv)\n",
    "gs.fit(df[['gre','gpa',1,2,3]],df['admit'])"
   ]
  },
  {
   "cell_type": "code",
   "execution_count": 17,
   "metadata": {
    "collapsed": false
   },
   "outputs": [
    {
     "name": "stdout",
     "output_type": "stream",
     "text": [
      "[[ 0.00210453  0.65699186  1.45597263  0.79700131  0.14088979]]\n",
      "[-4.86298045]\n",
      "0.3175\n"
     ]
    }
   ],
   "source": [
    "lm = gs.best_estimator_ \n",
    "print lm.coef_\n",
    "print lm.intercept_\n",
    "print df.admit.mean()"
   ]
  },
  {
   "cell_type": "code",
   "execution_count": 35,
   "metadata": {
    "collapsed": false
   },
   "outputs": [
    {
     "data": {
      "text/plain": [
       "0.70499999999999996"
      ]
     },
     "execution_count": 35,
     "metadata": {},
     "output_type": "execute_result"
    }
   ],
   "source": [
    "gs.best_score_"
   ]
  },
  {
   "cell_type": "markdown",
   "metadata": {},
   "source": [
    "Below is some code to walk through confusion matrices. It'll be useful for working through the Titanic problem."
   ]
  },
  {
   "cell_type": "code",
   "execution_count": 20,
   "metadata": {
    "collapsed": false
   },
   "outputs": [],
   "source": [
    "%matplotlib inline\n",
    "import matplotlib.pyplot as plt\n",
    "from sklearn.metrics import confusion_matrix,roc_curve, roc_auc_score"
   ]
  },
  {
   "cell_type": "markdown",
   "metadata": {},
   "source": [
    "### Generate a confusion matrix on the training data"
   ]
  },
  {
   "cell_type": "code",
   "execution_count": 28,
   "metadata": {
    "collapsed": false
   },
   "outputs": [
    {
     "name": "stdout",
     "output_type": "stream",
     "text": [
      "          pred_0  pred_1\n",
      "actual_0     256      17\n",
      "actual_1      99      28\n"
     ]
    }
   ],
   "source": [
    "logistic_confusion = confusion_matrix(df['admit'],lm.predict(df[['gre', 'gpa', 1, 2, 3,]]))\n",
    "logistic_confusion = pd.DataFrame(logistic_confusion,index = ['actual_0','actual_1'],columns = ['pred_0','pred_1'])\n",
    "print logistic_confusion"
   ]
  },
  {
   "cell_type": "code",
   "execution_count": 33,
   "metadata": {
    "collapsed": false
   },
   "outputs": [
    {
     "name": "stdout",
     "output_type": "stream",
     "text": [
      "0.71\n"
     ]
    }
   ],
   "source": [
    "#Accuracy sanity-check\n",
    "accuracy = float((logistic_confusion.loc['actual_0','pred_0'] + logistic_confusion.loc['actual_1','pred_1'])) / len(df)\n",
    "print accuracy\n",
    "\n",
    "#Does it match our best_score from gs?!? Yes!!"
   ]
  },
  {
   "cell_type": "markdown",
   "metadata": {},
   "source": [
    "### Classification Metrics\n",
    "\n",
    "**Accuracy**: Defined as total correct classification / total classification.\n",
    "\n",
    "Accuracy isn't the ONLY metric. We ALSO care about what we got wrong because that may be COSTLY from a Business POV.\n",
    "\n",
    "|          | Pred_0         | pred_1         |\n",
    "|----------|----------------|----------------|\n",
    "| Actual_0 | 256 (True Neg) | 17 (False Pos) |\n",
    "| Actual_1 | 99 (False Neg) | 28 (True Pos)  |\n",
    "\n",
    "#### Other Metrics\n",
    "\n",
    "**False Positive Rate (FPR)** = $\\frac{\\text{False Positives}}{\\text{False Positives} \\hspace{2 mm}+\\hspace{2mm} \\text{True Negatives}}$\n",
    "\n",
    "**True Positive Rate (TPR)** = $\\frac{\\text{True Positives}}{\\text{True Positives} \\hspace{2 mm}+\\hspace{2mm} \\text{False Negatives}}$\n",
    "\n",
    "**Recall** = Same as TPR\n",
    "\n",
    "**Precision** = $\\frac{\\text{True Positives}}{\\text{True Positives} \\hspace{2 mm}+\\hspace{2mm} \\text{False Positives}}$"
   ]
  },
  {
   "cell_type": "markdown",
   "metadata": {},
   "source": [
    "### Question: What's the difference between TPR (or recall) and Precision?"
   ]
  },
  {
   "cell_type": "code",
   "execution_count": 46,
   "metadata": {
    "collapsed": false
   },
   "outputs": [
    {
     "name": "stdout",
     "output_type": "stream",
     "text": [
      "fpr = 0.0622710622711\n",
      "tpr = 0.220472440945\n",
      "precision = 0.622222222222\n"
     ]
    }
   ],
   "source": [
    "#Calculate the metrics:\n",
    "\n",
    "fpr = float(logistic_confusion.loc['actual_0','pred_1']) / (df['admit'] == 0).sum()\n",
    "print 'fpr = %s' % fpr\n",
    "\n",
    "tpr = float(logistic_confusion.loc['actual_1','pred_1']) / (df['admit'] == 1).sum()\n",
    "print 'tpr = %s' % tpr\n",
    "\n",
    "precision = float(logistic_confusion.loc['actual_1','pred_1']) / logistic_confusion['pred_1'].sum()\n",
    "print 'precision = %s' % precision"
   ]
  },
  {
   "cell_type": "markdown",
   "metadata": {},
   "source": [
    "### Question: How does the predict function predict?\n",
    "\n",
    "If $P(Y=1|X) > .5$, predict Y = 1 otherwise predict 0.\n",
    "\n",
    "Let's verify this manually:"
   ]
  },
  {
   "cell_type": "code",
   "execution_count": 65,
   "metadata": {
    "collapsed": false
   },
   "outputs": [
    {
     "data": {
      "text/plain": [
       "400"
      ]
     },
     "execution_count": 65,
     "metadata": {},
     "output_type": "execute_result"
    }
   ],
   "source": [
    "probability_pred = lm.predict_proba(df[['gre','gpa',1,2,3]])[:,1]\n",
    "predictions = (probability_pred >= .5) + 0   #The threshold is given by .5\n",
    "\n",
    "(lm.predict(df[['gre','gpa',1,2,3]]) == predictions).sum()"
   ]
  },
  {
   "cell_type": "markdown",
   "metadata": {},
   "source": [
    "#### The threshold was .5! What if we change that?"
   ]
  },
  {
   "cell_type": "code",
   "execution_count": 150,
   "metadata": {
    "collapsed": false
   },
   "outputs": [
    {
     "name": "stdout",
     "output_type": "stream",
     "text": [
      "          pred_0  pred_1\n",
      "actual_0     273       0\n",
      "actual_1     127       0\n"
     ]
    }
   ],
   "source": [
    "#If we want to be cautious about predictions\n",
    "probability_pred = lm.predict_proba(df[['gre','gpa',1,2,3]])[:,1]\n",
    "predictions = (probability_pred >= .8) + 0   #The threshold is given by .8\n",
    "\n",
    "#Getting the confusion matrix\n",
    "logistic_confusion = confusion_matrix(df['admit'],predictions)\n",
    "logistic_confusion = pd.DataFrame(logistic_confusion,index = ['actual_0','actual_1'],columns = ['pred_0','pred_1'])\n",
    "print logistic_confusion"
   ]
  },
  {
   "cell_type": "code",
   "execution_count": 73,
   "metadata": {
    "collapsed": false
   },
   "outputs": [
    {
     "name": "stdout",
     "output_type": "stream",
     "text": [
      "fpr = 0.0\n",
      "tpr = 0.0\n"
     ]
    }
   ],
   "source": [
    "#Our friendly classification metrics\n",
    "\n",
    "fpr = float(logistic_confusion.loc['actual_0','pred_1']) / (df['admit'] == 0).sum()\n",
    "print 'fpr = %s' % fpr\n",
    "\n",
    "tpr = float(logistic_confusion.loc['actual_1','pred_1']) / (df['admit'] == 1).sum()\n",
    "print 'tpr = %s' % tpr"
   ]
  },
  {
   "cell_type": "markdown",
   "metadata": {},
   "source": [
    "#### Does that make sense?\n",
    "\n",
    "We were 'so' cautious about predictions that yes, we **minimized** our false positive rate (as a fraction of all the negatives, we didn't make any mistakes) but we also minimized our **true** positive rate (as a fraction of all the positives, we didn't classify anybody as positive)!\n",
    "\n",
    "Example: Perhaps a judge that doesn't like the death penalty would always predict not-guilty in a bunch of cases involving capital punishments. The judge is being *conservative*"
   ]
  },
  {
   "cell_type": "code",
   "execution_count": 105,
   "metadata": {
    "collapsed": false
   },
   "outputs": [
    {
     "name": "stdout",
     "output_type": "stream",
     "text": [
      "          pred_0  pred_1\n",
      "actual_0       0     273\n",
      "actual_1       0     127\n"
     ]
    }
   ],
   "source": [
    "#If we want to be liberal predictions\n",
    "probability_pred = lm.predict_proba(df[['gre','gpa',1,2,3]])[:,1]\n",
    "predictions = (probability_pred >= 0.05) + 0   #The threshold is given by .8\n",
    "\n",
    "#Getting the confusion matrix\n",
    "logistic_confusion = confusion_matrix(df['admit'],predictions)\n",
    "logistic_confusion = pd.DataFrame(logistic_confusion,index = ['actual_0','actual_1'],columns = ['pred_0','pred_1'])\n",
    "print logistic_confusion"
   ]
  },
  {
   "cell_type": "code",
   "execution_count": 77,
   "metadata": {
    "collapsed": false
   },
   "outputs": [
    {
     "name": "stdout",
     "output_type": "stream",
     "text": [
      "fpr = 1.0\n",
      "tpr = 1.0\n"
     ]
    }
   ],
   "source": [
    "#Our friendly classification metrics\n",
    "\n",
    "fpr = float(logistic_confusion.loc['actual_0','pred_1']) / (df['admit'] == 0).sum()\n",
    "print 'fpr = %s' % fpr\n",
    "\n",
    "tpr = float(logistic_confusion.loc['actual_1','pred_1']) / (df['admit'] == 1).sum()\n",
    "print 'tpr = %s' % tpr"
   ]
  },
  {
   "cell_type": "markdown",
   "metadata": {},
   "source": [
    "#### Does that make sense?\n",
    "\n",
    "We were 'so' liberal about predictions that yes, we **maximized** our true positive rate (as a fraction of all the positives, we didn't make any mistakes) but we also maximized our false positive rate (as a fraction of all the negatives, we didn't classify any correctly)!\n"
   ]
  },
  {
   "cell_type": "markdown",
   "metadata": {},
   "source": [
    "### What if we did this for a BUNCH of different thresholds"
   ]
  },
  {
   "cell_type": "code",
   "execution_count": 111,
   "metadata": {
    "collapsed": false
   },
   "outputs": [],
   "source": [
    "threshold_range = np.arange(0,1,.001)\n",
    "tpr = np.zeros(1000)\n",
    "fpr = np.zeros(1000)\n",
    "\n",
    "#Doing this outside to speed up for-loop\n",
    "num_zeros = (df['admit'] == 0).sum()\n",
    "num_ones = (df['admit'] == 1).sum()\n",
    "\n",
    "for idx, threshold in enumerate(threshold_range):\n",
    "    \n",
    "    probability_pred = lm.predict_proba(df[['gre','gpa',1,2,3]])[:,1]\n",
    "    predictions = (probability_pred >= threshold) + 0\n",
    "    logistic_confusion = confusion_matrix(df['admit'],predictions)\n",
    "    logistic_confusion = pd.DataFrame(logistic_confusion,index = ['actual_0','actual_1'],columns = ['pred_0','pred_1'])\n",
    "    \n",
    "    fpr[idx] = float(logistic_confusion.loc['actual_0','pred_1']) / num_zeros\n",
    "    tpr[idx] = float(logistic_confusion.loc['actual_1','pred_1']) / num_ones\n"
   ]
  },
  {
   "cell_type": "code",
   "execution_count": 114,
   "metadata": {
    "collapsed": false
   },
   "outputs": [
    {
     "data": {
      "text/plain": [
       "<matplotlib.text.Text at 0x7f93722525d0>"
      ]
     },
     "execution_count": 114,
     "metadata": {},
     "output_type": "execute_result"
    },
    {
     "data": {
      "image/png": "[encoded data removed]",
      "text/plain": [
       "<matplotlib.figure.Figure at 0x7f93722c0b90>"
      ]
     },
     "metadata": {},
     "output_type": "display_data"
    }
   ],
   "source": [
    "#Let's plot fpr and tpr as a scatterplot \n",
    "plt.plot(fpr,tpr)\n",
    "plt.title('Receiver Operator Characteristics (ROC) Curve')\n",
    "plt.xlabel('False Positive Rate')\n",
    "plt.ylabel('True Positive Rate')"
   ]
  },
  {
   "cell_type": "markdown",
   "metadata": {},
   "source": [
    "### What happens if our classifier was AMAZING?!\n",
    "\n",
    "1. You would expect that for all actual **negatives**, our classifier spits out a probability ~ **0** (but not exactly 0)\n",
    "\n",
    "2. You would expect that for all actual **positives**, our classifier spits out a probability ~ **1** (but not exactly 1)\n",
    "\n",
    "When the threshold is **0** --> tpr = 1 , fpr = 1\n",
    "\n",
    "When the threshold is **1** --> tpr = 0 , fpr = 0\n",
    "\n",
    "When the threshold is **>0 ** --> tpr = 1 , fpr = 0\n",
    "\n",
    "When the threshold is **<1** --> tpr = 1 , fpr = 0\n",
    "\n",
    "**IN SUMMARY**\n",
    "\n",
    "When the threshold is 0, the point on the ROC curve is (1,1). When the threshold is varied to be *just* below 1, the point on the ROC jumps to (0,1) and remains there until the threshold becomes 0 when the point on the ROC jumps again to (0,0)"
   ]
  },
  {
   "cell_type": "code",
   "execution_count": 149,
   "metadata": {
    "collapsed": false
   },
   "outputs": [
    {
     "data": {
      "text/plain": [
       "<matplotlib.legend.Legend at 0x7f9371758a90>"
      ]
     },
     "execution_count": 149,
     "metadata": {},
     "output_type": "execute_result"
    },
    {
     "data": {
      "image/png": "[encoded data removed]",
      "text/plain": [
       "<matplotlib.figure.Figure at 0x7f9371b8cd10>"
      ]
     },
     "metadata": {},
     "output_type": "display_data"
    }
   ],
   "source": [
    "plt.plot(fpr,tpr,label = \"Our Classifier\")\n",
    "plt.title('Receiver Operator Characteristics (ROC) Curve')\n",
    "plt.xlabel('False Positive Rate')\n",
    "plt.ylabel('True Positive Rate')\n",
    "\n",
    "plt.plot([0.01,0.01,.99],[0.01,.99,.99],label=\"Perfect Classifier\")\n",
    "\n",
    "plt.legend(loc=4)"
   ]
  },
  {
   "cell_type": "markdown",
   "metadata": {},
   "source": [
    "### How good is our classifier? How do we compare it to perfection?\n",
    "\n",
    "Integrate the curves. That is find the Area Under Curve (AUC)!"
   ]
  },
  {
   "cell_type": "code",
   "execution_count": 134,
   "metadata": {
    "collapsed": false
   },
   "outputs": [
    {
     "name": "stdout",
     "output_type": "stream",
     "text": [
      "Perfect AUC is 1.0\n"
     ]
    }
   ],
   "source": [
    "import scipy as sc\n",
    "\n",
    "print 'Perfect AUC is %s' % sc.trapz([0,1,1],[0,0,1])"
   ]
  },
  {
   "cell_type": "code",
   "execution_count": 139,
   "metadata": {
    "collapsed": false
   },
   "outputs": [
    {
     "name": "stdout",
     "output_type": "stream",
     "text": [
      "Our AUC is 0.691903896628\n"
     ]
    }
   ],
   "source": [
    "sc.trapz(tpr,fpr)\n",
    "\n",
    "print 'Our AUC is %s' % -sc.trapz(tpr,fpr)"
   ]
  },
  {
   "cell_type": "markdown",
   "metadata": {},
   "source": [
    "### Of course, Python can do ALL of this for you!"
   ]
  },
  {
   "cell_type": "code",
   "execution_count": 145,
   "metadata": {
    "collapsed": false
   },
   "outputs": [
    {
     "data": {
      "text/plain": [
       "[<matplotlib.lines.Line2D at 0x7f937184a950>]"
      ]
     },
     "execution_count": 145,
     "metadata": {},
     "output_type": "execute_result"
    },
    {
     "data": {
      "image/png": "[encoded data removed]",
      "text/plain": [
       "<matplotlib.figure.Figure at 0x7f9371ed4150>"
      ]
     },
     "metadata": {},
     "output_type": "display_data"
    }
   ],
   "source": [
    "probas = lm.predict_proba(df[['gre','gpa',1,2,3]])\n",
    "plt.plot(roc_curve(df[['admit']], probas[:,1])[0], roc_curve(df[['admit']], probas[:,1])[1])"
   ]
  },
  {
   "cell_type": "code",
   "execution_count": 148,
   "metadata": {
    "collapsed": false
   },
   "outputs": [
    {
     "name": "stdout",
     "output_type": "stream",
     "text": [
      "Our AUC score using sklearn is 0.691860632806\n"
     ]
    }
   ],
   "source": [
    "print 'Our AUC score using sklearn is %s' % roc_auc_score(df['admit'], probas[:,1])"
   ]
  },
  {
   "cell_type": "markdown",
   "metadata": {},
   "source": [
    "This differences are numerical roundoffs!"
   ]
  },
  {
   "cell_type": "markdown",
   "metadata": {},
   "source": [
    "### Titanic Problem"
   ]
  },
  {
   "cell_type": "markdown",
   "metadata": {},
   "source": [
    "** Goals **\n",
    "\n",
    "1. Spend a few minutes determining which data would be most important to use in the prediction problem. You may need to create new features based on the data available. Consider using a feature selection aide in sklearn. But a worst case scenario; identify one or two strong features that would be useful to include in the model.\n",
    "2. Spend 1-2 minutes considering which _metric_ makes the most sense to optimize. Accuracy? FPR or TPR? AUC? Given the business problem (understanding survival rate aboard the Titanic), why should you use this metric?\n",
    "3. Build a tuned Logistic model. Be prepared to explain your design (including regularization), metric, and feature set in predicting survival using the tools necessary (such as a fit chart)."
   ]
  },
  {
   "cell_type": "code",
   "execution_count": null,
   "metadata": {
    "collapsed": true
   },
   "outputs": [],
   "source": []
  }
 ],
 "metadata": {
  "kernelspec": {
   "display_name": "Python 2",
   "language": "python",
   "name": "python2"
  },
  "language_info": {
   "codemirror_mode": {
    "name": "ipython",
    "version": 2
   },
   "file_extension": ".py",
   "mimetype": "text/x-python",
   "name": "python",
   "nbconvert_exporter": "python",
   "pygments_lexer": "ipython2",
   "version": "2.7.6"
  }
 },
 "nbformat": 4,
 "nbformat_minor": 0
}
