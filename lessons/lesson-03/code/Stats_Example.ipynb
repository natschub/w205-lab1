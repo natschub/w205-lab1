{
 "cells": [
  {
   "cell_type": "markdown",
   "metadata": {},
   "source": [
    "## Why Stats Matter Example\n",
    "\n",
    "Let's say you work for a real-estate company and you and two-other co-workers are tasked with modeling the price of homes given their area in the city of Denver. You are trying to look at aggregate or global behavior of prices in the city.\n",
    "\n",
    "Here's the plan of action. Since you clearly can't collect data about every home, you need to randomly sample. Assume there are 500000  homes in Denver. (For this example, ignore differences due to neighborhoods, and other strata effects)\n",
    "\n",
    "1. You: Randomly sample 50 homes.\n",
    "2. Joe: Randomly samples 50 homes.\n",
    "3. Shmoe: Randomly samples 50 homes.\n",
    "\n",
    "Also, here's a secret unknown to you at the time of your work. It turns out that the home prices are generated from the following model: \n",
    "\n",
    "\n",
    "$$P = 3 * A + .5 + \\epsilon$$ \n",
    "\n",
    "P = Price in 100k's  \n",
    "A = Area in 1k's square feet  \n",
    "$\\epsilon \\sim \\textit{N($\\mu$ = 0,$\\sigma^2$ = 2)}$. This represents random effects. Central Limit Theorem preview\n",
    "\n",
    "### Let's simulate the sampling process:"
   ]
  },
  {
   "cell_type": "code",
   "execution_count": 4,
   "metadata": {
    "collapsed": false
   },
   "outputs": [],
   "source": [
    "import numpy as np\n",
    "import pandas as pd\n",
    "import matplotlib.pyplot as plt\n",
    "from sklearn.linear_model import LinearRegression\n",
    "\n",
    "mu = 0\n",
    "sigma = 2\n",
    "\n",
    "area_you = np.random.uniform(1,5,size = 15)\n",
    "price_you = area_you * 3 + .5 + sigma * np.random.randn(1,15)\n",
    "\n",
    "\n",
    "area_joe = np.random.uniform(1,5,size = 15)\n",
    "price_joe = area_joe * 3 + .5 + sigma * np.random.randn(1,15)\n",
    "\n",
    "\n",
    "area_shmoe = np.random.uniform(1,5,size = 15)\n",
    "price_shmoe = area_shmoe * 3 + .5 + sigma * np.random.randn(1,15)"
   ]
  },
  {
   "cell_type": "markdown",
   "metadata": {},
   "source": [
    "### Let's create a scatter plot with all of the sampled houses"
   ]
  },
  {
   "cell_type": "code",
   "execution_count": 2,
   "metadata": {
    "collapsed": false
   },
   "outputs": [],
   "source": [
    "plt.scatter(area_you,price_you,color = ['blue'])\n",
    "plt.scatter(area_joe,price_joe,color = ['red'])\n",
    "plt.scatter(area_shmoe,price_shmoe,color = ['green'])\n",
    "\n",
    "plt.show()"
   ]
  },
  {
   "cell_type": "markdown",
   "metadata": {},
   "source": [
    "### Now let's model each  using a Linear Regression model"
   ]
  },
  {
   "cell_type": "code",
   "execution_count": 7,
   "metadata": {
    "collapsed": false
   },
   "outputs": [],
   "source": [
    "price_reg_you = LinearRegression()\n",
    "price_reg_joe = LinearRegression()\n",
    "price_reg_shmoe = LinearRegression()\n",
    "\n",
    "#area_you.reshape(-1,1)\n",
    "price_reg_you.fit(area_you.reshape(-1,1),price_you.reshape(-1,1))\n",
    "plt.scatter(area_you,price_you,color = ['blue'])\n",
    "plt.plot(area_you,price_reg_you.predict(area_you.reshape(-1,1)))\n",
    "\n",
    "price_reg_joe.fit(area_joe.reshape(-1,1),price_joe.reshape(-1,1))\n",
    "plt.scatter(area_joe,price_joe,color = ['green'])\n",
    "plt.plot(area_joe,price_reg_joe.predict(area_joe.reshape(-1,1)))\n",
    "\n",
    "price_reg_shmoe.fit(area_shmoe.reshape(-1,1),price_shmoe.reshape(-1,1))\n",
    "plt.scatter(area_shmoe,price_shmoe,color = ['red'])\n",
    "plt.plot(area_shmoe,price_reg_shmoe.predict(area_shmoe.reshape(-1,1)))\n",
    "\n",
    "\n",
    "plt.show()"
   ]
  },
  {
   "cell_type": "markdown",
   "metadata": {},
   "source": [
    "### Let's look at the regression coefficients"
   ]
  },
  {
   "cell_type": "code",
   "execution_count": 9,
   "metadata": {
    "collapsed": false
   },
   "outputs": [
    {
     "name": "stdout",
     "output_type": "stream",
     "text": [
      "The slope for the price of your regression is: 2.93196875657\n",
      "The slope for the price of Joe's regression is: 3.55251017716\n",
      "The slope for the price of Shmoe's regression is: 3.51052951733\n"
     ]
    }
   ],
   "source": [
    "print 'The slope for the price of your regression is: {0}'.format(price_reg_you.coef_[0,0])\n",
    "print 'The slope for the price of Joe\\'s regression is: {0}'.format(price_reg_joe.coef_[0,0])\n",
    "print 'The slope for the price of Shmoe\\'s regression is: {0}'.format(price_reg_shmoe.coef_[0,0])"
   ]
  },
  {
   "cell_type": "markdown",
   "metadata": {},
   "source": [
    "### Who's right?\n",
    "\n",
    "At this point your boss Mr. Dunnostats is really pissed off. He wants an explanation of why the answers differ. In fact, he wants to know the REAL slope (which is 3). What are you going to tell him?!\n",
    "\n",
    "Why? Because as a real-estate investment company, it is crucial to know how much more money we can expect if we build or invest in houses with more square-footage."
   ]
  },
  {
   "cell_type": "markdown",
   "metadata": {},
   "source": [
    "## Homework\n",
    "\n",
    "You will have to explore two things in this homework. What happens if 200 people ran the same experiment (not just You, Joe, and Shmoe)? What happens if each person sampled not 15 houses, but also more than that?\n",
    "\n",
    "**Part I**: What happens if 200 people ran the same experiment? Your job is to calculate the coefficients for each of these people, make a histogram, and see what that looks like. What is the sample mean and standard deviation of the histogram?\n",
    "\n",
    "Bonus: Use Kernel Density Estimation (KDE) techniques to infer a continuous probability density function of your histogram. Use a uniform, triangular, and Epanechnikov kernels and compare distributions."
   ]
  },
  {
   "cell_type": "code",
   "execution_count": null,
   "metadata": {
    "collapsed": true
   },
   "outputs": [],
   "source": [
    "#Do part I here!"
   ]
  },
  {
   "cell_type": "markdown",
   "metadata": {},
   "source": [
    "**Part II**: Increase the sample size. What if each of your 200 people sampled 50,100,200,... homes instead of 15? In this problem, let n = sample size vary from 15 --> 200. Do the following:\n",
    "\n",
    "1. For each sample size, calculate the resulting coefficient histogram for the 200 people. \n",
    "2. Plot histogram only for n = 15, 50,100,200.\n",
    "3. Describe what the histogram looks like. Use terms such as bi-modal, skewed, symmetric, kurtosis, etc? \n",
    "4. Plot the mean and standard deviation as functions of n. "
   ]
  },
  {
   "cell_type": "code",
   "execution_count": null,
   "metadata": {
    "collapsed": true
   },
   "outputs": [],
   "source": [
    "#Do part II here!"
   ]
  }
 ],
 "metadata": {
  "kernelspec": {
   "display_name": "Python 2",
   "language": "python",
   "name": "python2"
  },
  "language_info": {
   "codemirror_mode": {
    "name": "ipython",
    "version": 2
   },
   "file_extension": ".py",
   "mimetype": "text/x-python",
   "name": "python",
   "nbconvert_exporter": "python",
   "pygments_lexer": "ipython2",
   "version": "2.7.6"
  }
 },
 "nbformat": 4,
 "nbformat_minor": 0
}
